{
 "cells": [
  {
   "cell_type": "code",
   "execution_count": 28,
   "id": "e54f7823-2a0c-4188-b04b-fbee810320c5",
   "metadata": {},
   "outputs": [],
   "source": [
    "import pandas as pd\n",
    "import numpy as np\n",
    "import matplotlib.pyplot as plt\n",
    "import seaborn as sns\n"
   ]
  },
  {
   "cell_type": "code",
   "execution_count": 29,
   "id": "949eb651-aafb-4d2c-8ee3-235c2f3dad03",
   "metadata": {},
   "outputs": [],
   "source": [
    "circuits = pd.read_csv(\"circuits.csv\")\n",
    "con_res = pd.read_csv(\"constructor_results.csv\")\n",
    "constructors = pd.read_csv(\"constructors.csv\")\n",
    "drivers = pd.read_csv(\"drivers.csv\")\n",
    "lap_times = pd.read_csv(\"lap_times.csv\")\n",
    "pit_stops = pd.read_csv(\"pit_stops.csv\")\n",
    "qualifying = pd.read_csv(\"qualifying.csv\")\n",
    "races = pd.read_csv(\"races.csv\")\n",
    "incidents = pd.read_csv(\"status.csv\")\n",
    "results = pd.read_csv(\"results.csv\")"
   ]
  },
  {
   "cell_type": "code",
   "execution_count": 30,
   "id": "3f1ff19a-cdf0-45ff-a28e-ef9d109208ec",
   "metadata": {},
   "outputs": [],
   "source": [
    "races.dropna(inplace=True)\n",
    "drivers.dropna(inplace=True)\n",
    "constructors.dropna(inplace=True)\n",
    "qualifying.dropna(inplace=True)\n",
    "lap_times.dropna(inplace=True)\n",
    "pit_stops.dropna(inplace=True)\n",
    "results.dropna(inplace=True)\n"
   ]
  },
  {
   "cell_type": "code",
   "execution_count": 31,
   "id": "05c2ae08-c781-40d9-8bf6-ce800c3312ac",
   "metadata": {},
   "outputs": [],
   "source": [
    "races['date'] = pd.to_datetime(races['date'])\n",
    "qualifying['q1'] = pd.to_numeric(qualifying['q1'], errors='coerce')\n",
    "lap_times['milliseconds'] = pd.to_numeric(lap_times['milliseconds'], errors='coerce')\n",
    "\n"
   ]
  },
  {
   "cell_type": "code",
   "execution_count": 32,
   "id": "db1741c6-381e-461c-a233-47e66ce27d73",
   "metadata": {},
   "outputs": [],
   "source": [
    "races['date'] = pd.to_datetime(races['date'], format='%Y-%m-%d')\n",
    "\n"
   ]
  },
  {
   "cell_type": "code",
   "execution_count": 33,
   "id": "a8e325ed-987a-4d73-a850-bdf5716705ba",
   "metadata": {},
   "outputs": [],
   "source": [
    "race_results = pd.merge(races, results, on='raceId', how='inner')\n",
    "race_results_drivers = pd.merge(race_results, drivers, on='driverId', how='inner')\n",
    "race_results_drivers_constructors = pd.merge(race_results_drivers, constructors, on='constructorId', how='inner')\n",
    "full_data = pd.merge(race_results_drivers_constructors, qualifying, on=['raceId', 'driverId'], how='left')\n",
    "\n"
   ]
  },
  {
   "cell_type": "code",
   "execution_count": 34,
   "id": "93596300-6e90-4d55-9fd3-1c7fa2e017a1",
   "metadata": {},
   "outputs": [
    {
     "name": "stdout",
     "output_type": "stream",
     "text": [
      "   raceId  year  round  circuitId                 name_x       date    time_x  \\\n",
      "0       1  2009      1          1  Australian Grand Prix 2009-03-29  06:00:00   \n",
      "1       1  2009      1          1  Australian Grand Prix 2009-03-29  06:00:00   \n",
      "2       1  2009      1          1  Australian Grand Prix 2009-03-29  06:00:00   \n",
      "3       1  2009      1          1  Australian Grand Prix 2009-03-29  06:00:00   \n",
      "4       1  2009      1          1  Australian Grand Prix 2009-03-29  06:00:00   \n",
      "\n",
      "                                               url_x fp1_date fp1_time  ...  \\\n",
      "0  http://en.wikipedia.org/wiki/2009_Australian_G...       \\N       \\N  ...   \n",
      "1  http://en.wikipedia.org/wiki/2009_Australian_G...       \\N       \\N  ...   \n",
      "2  http://en.wikipedia.org/wiki/2009_Australian_G...       \\N       \\N  ...   \n",
      "3  http://en.wikipedia.org/wiki/2009_Australian_G...       \\N       \\N  ...   \n",
      "4  http://en.wikipedia.org/wiki/2009_Australian_G...       \\N       \\N  ...   \n",
      "\n",
      "         q3 lap_x lap_position  lap_time milliseconds_y stop lap_y  \\\n",
      "0  1:26.202   1.0          1.0  1:35.652        95652.0  NaN   NaN   \n",
      "1  1:26.202   2.0          1.0  1:30.612        90612.0  NaN   NaN   \n",
      "2  1:26.202   3.0          1.0  1:29.848        89848.0  NaN   NaN   \n",
      "3  1:26.202   4.0          1.0  1:29.223        89223.0  NaN   NaN   \n",
      "4  1:26.202   5.0          1.0  1:28.787        88787.0  NaN   NaN   \n",
      "\n",
      "  pit_stop_time  duration  milliseconds  \n",
      "0           NaN       NaN           NaN  \n",
      "1           NaN       NaN           NaN  \n",
      "2           NaN       NaN           NaN  \n",
      "3           NaN       NaN           NaN  \n",
      "4           NaN       NaN           NaN  \n",
      "\n",
      "[5 rows x 63 columns]\n",
      "<class 'pandas.core.frame.DataFrame'>\n",
      "RangeIndex: 920371 entries, 0 to 920370\n",
      "Data columns (total 63 columns):\n",
      " #   Column           Non-Null Count   Dtype         \n",
      "---  ------           --------------   -----         \n",
      " 0   raceId           920371 non-null  int64         \n",
      " 1   year             920371 non-null  int64         \n",
      " 2   round            920371 non-null  int64         \n",
      " 3   circuitId        920371 non-null  int64         \n",
      " 4   name_x           920371 non-null  object        \n",
      " 5   date             920371 non-null  datetime64[ns]\n",
      " 6   time_x           920371 non-null  object        \n",
      " 7   url_x            920371 non-null  object        \n",
      " 8   fp1_date         920371 non-null  object        \n",
      " 9   fp1_time         920371 non-null  object        \n",
      " 10  fp2_date         920371 non-null  object        \n",
      " 11  fp2_time         920371 non-null  object        \n",
      " 12  fp3_date         920371 non-null  object        \n",
      " 13  fp3_time         920371 non-null  object        \n",
      " 14  quali_date       920371 non-null  object        \n",
      " 15  quali_time       920371 non-null  object        \n",
      " 16  sprint_date      920371 non-null  object        \n",
      " 17  sprint_time      920371 non-null  object        \n",
      " 18  resultId         920371 non-null  int64         \n",
      " 19  driverId         920371 non-null  int64         \n",
      " 20  constructorId_x  920371 non-null  int64         \n",
      " 21  number_x         920371 non-null  object        \n",
      " 22  grid             920371 non-null  int64         \n",
      " 23  position_x       920371 non-null  object        \n",
      " 24  positionText     920371 non-null  object        \n",
      " 25  positionOrder    920371 non-null  int64         \n",
      " 26  points           920371 non-null  float64       \n",
      " 27  laps             920371 non-null  int64         \n",
      " 28  time_y           920371 non-null  object        \n",
      " 29  milliseconds_x   920371 non-null  object        \n",
      " 30  fastestLap       920371 non-null  object        \n",
      " 31  rank             920371 non-null  object        \n",
      " 32  fastestLapTime   920371 non-null  object        \n",
      " 33  fastestLapSpeed  920371 non-null  object        \n",
      " 34  statusId         920371 non-null  int64         \n",
      " 35  driverRef        920371 non-null  object        \n",
      " 36  number_y         920371 non-null  object        \n",
      " 37  code             920371 non-null  object        \n",
      " 38  forename         920371 non-null  object        \n",
      " 39  surname          920371 non-null  object        \n",
      " 40  dob              920371 non-null  object        \n",
      " 41  nationality_x    920371 non-null  object        \n",
      " 42  url_y            920371 non-null  object        \n",
      " 43  constructorRef   920371 non-null  object        \n",
      " 44  name_y           920371 non-null  object        \n",
      " 45  nationality_y    920371 non-null  object        \n",
      " 46  url              920371 non-null  object        \n",
      " 47  qualifyId        817874 non-null  float64       \n",
      " 48  constructorId_y  817874 non-null  float64       \n",
      " 49  number           817874 non-null  float64       \n",
      " 50  position_y       817874 non-null  float64       \n",
      " 51  q1               0 non-null       float64       \n",
      " 52  q2               817874 non-null  object        \n",
      " 53  q3               817874 non-null  object        \n",
      " 54  lap_x            904615 non-null  float64       \n",
      " 55  lap_position     904615 non-null  float64       \n",
      " 56  lap_time         904615 non-null  object        \n",
      " 57  milliseconds_y   904615 non-null  float64       \n",
      " 58  stop             633511 non-null  float64       \n",
      " 59  lap_y            633511 non-null  float64       \n",
      " 60  pit_stop_time    633511 non-null  object        \n",
      " 61  duration         633511 non-null  object        \n",
      " 62  milliseconds     633511 non-null  float64       \n",
      "dtypes: datetime64[ns](1), float64(12), int64(11), object(39)\n",
      "memory usage: 442.4+ MB\n",
      "None\n"
     ]
    }
   ],
   "source": [
    "lap_times.rename(columns={\n",
    "    'time': 'lap_time',\n",
    "    'position': 'lap_position'\n",
    "}, inplace=True)\n",
    "\n",
    "pit_stops.rename(columns={\n",
    "    'time': 'pit_stop_time',\n",
    "    'position': 'pit_stop_position'\n",
    "}, inplace=True)\n",
    "\n",
    "# Now merge without needing suffixes\n",
    "full_data = pd.merge(full_data, lap_times, on=['raceId', 'driverId'], how='left')\n",
    "full_data = pd.merge(full_data, pit_stops, on=['raceId', 'driverId'], how='left')\n",
    "\n",
    "# Inspect the final DataFrame\n",
    "print(full_data.head())\n",
    "print(full_data.info())"
   ]
  },
  {
   "cell_type": "code",
   "execution_count": 35,
   "id": "f439c70f-c527-431d-8f66-8ee66fabf6f2",
   "metadata": {},
   "outputs": [],
   "source": [
    "from sklearn.model_selection import train_test_split, GridSearchCV\n",
    "from sklearn.preprocessing import StandardScaler\n",
    "from sklearn.ensemble import RandomForestClassifier, GradientBoostingClassifier\n",
    "from sklearn.linear_model import LogisticRegression\n",
    "from sklearn.metrics import accuracy_score, precision_score, recall_score, f1_score\n"
   ]
  },
  {
   "cell_type": "code",
   "execution_count": 36,
   "id": "b2e225a9-3f82-4101-9fa3-66b8fa09f56e",
   "metadata": {},
   "outputs": [],
   "source": [
    "full_data['driver_wins'] = full_data.groupby('driverId')['positionOrder'].transform(lambda x: (x == 1).sum())\n",
    "full_data['driver_podiums'] = full_data.groupby('driverId')['positionOrder'].transform(lambda x: (x <= 3).sum())\n",
    "full_data['average_qualifying_position'] = full_data.groupby('driverId')['grid'].transform('mean')\n",
    "full_data['constructor_wins'] = full_data.groupby('constructorId_x')['positionOrder'].transform(lambda x: (x == 1).sum())\n",
    "\n",
    "# Dropping columns that are not useful for prediction\n",
    "full_data = full_data.drop(columns=['url', 'date', 'lap_time', 'pit_stop_time', 'lap_position'])\n",
    "\n",
    "# Handling missing values\n",
    "full_data.fillna(0, inplace=True)\n",
    "\n",
    "\n",
    "# Selecting features and target variable\n",
    "features = ['grid', 'driver_wins', 'driver_podiums', 'average_qualifying_position', 'constructor_wins']\n",
    "X = full_data[features]\n",
    "y = full_data['positionOrder'] <= 3  # Example target: whether a driver finishes on the podium\n",
    "\n",
    "X_train, X_test, y_train, y_test = train_test_split(X_scaled, y, test_size=0.2, random_state=42)\n",
    "# Normalize or scale features\n",
    "scaler = StandardScaler()\n",
    "X_scaled = scaler.fit_transform(X)\n",
    "X_train_scaled = scaler.fit_transform(X_train)\n",
    "X_test_scaled = scaler.transform(X_test)"
   ]
  },
  {
   "cell_type": "code",
   "execution_count": null,
   "id": "35264ea6-29ee-4ce7-955d-957f0c7d7564",
   "metadata": {},
   "outputs": [],
   "source": []
  },
  {
   "cell_type": "code",
   "execution_count": 37,
   "id": "d7da4780-22fe-478e-8779-e1353579f93f",
   "metadata": {},
   "outputs": [
    {
     "data": {
      "text/plain": [
       "'gradient_boosting_model = GradientBoostingClassifier()\\ngradient_boosting_model.fit(X_train, y_train)\\ngradient_boosting_accuracy = gradient_boosting_model.score(X_test, y_test)'"
      ]
     },
     "execution_count": 37,
     "metadata": {},
     "output_type": "execute_result"
    }
   ],
   "source": [
    "'''gradient_boosting_model = GradientBoostingClassifier()\n",
    "gradient_boosting_model.fit(X_train, y_train)\n",
    "gradient_boosting_accuracy = gradient_boosting_model.score(X_test, y_test)'''"
   ]
  },
  {
   "cell_type": "code",
   "execution_count": 38,
   "id": "860a0b80-4011-43cd-95e5-8c1791d725bb",
   "metadata": {},
   "outputs": [
    {
     "data": {
      "text/plain": [
       "'logistic_regression_model = LogisticRegression()\\nlogistic_regression_model.fit(X_train, y_train)\\nlogistic_regression_accuracy = logistic_regression_model.score(X_test, y_test)'"
      ]
     },
     "execution_count": 38,
     "metadata": {},
     "output_type": "execute_result"
    }
   ],
   "source": [
    "'''logistic_regression_model = LogisticRegression()\n",
    "logistic_regression_model.fit(X_train, y_train)\n",
    "logistic_regression_accuracy = logistic_regression_model.score(X_test, y_test)'''"
   ]
  },
  {
   "cell_type": "code",
   "execution_count": 39,
   "id": "21f80a45-3a71-47bd-9ed5-423d57168818",
   "metadata": {},
   "outputs": [],
   "source": [
    "#ended up choosing this model as it had the higest accuracy score out of the three\n",
    "random_forest_model = RandomForestClassifier()\n",
    "random_forest_model.fit(X_train, y_train)\n",
    "random_forest_accuracy = random_forest_model.score(X_test, y_test)"
   ]
  },
  {
   "cell_type": "code",
   "execution_count": 40,
   "id": "916262fb-4e07-4fd0-b06c-ef5edaadf56a",
   "metadata": {},
   "outputs": [
    {
     "name": "stdout",
     "output_type": "stream",
     "text": [
      "Random Forest Accuracy: 0.9123835393182127\n"
     ]
    }
   ],
   "source": [
    "#print(f'Logistic Regression Accuracy: {logistic_regression_accuracy}')\n",
    "print(f'Random Forest Accuracy: {random_forest_accuracy}')\n",
    "#print(f'Gradient Boosting Accuracy: {gradient_boosting_accuracy}')"
   ]
  },
  {
   "cell_type": "code",
   "execution_count": null,
   "id": "03da574b-cf9b-49c8-96e7-69dfd5d966d2",
   "metadata": {},
   "outputs": [],
   "source": [
    "y_pred_rf = best_rf_model.predict(X_test_scaled)\n",
    "print(\"Random Forest:\")\n",
    "print(f\"Accuracy: {accuracy_score(y_test, y_pred_rf)}\")\n",
    "print(f\"Precision: {precision_score(y_test, y_pred_rf)}\")\n",
    "print(f\"Recall: {recall_score(y_test, y_pred_rf)}\")\n",
    "print(f\"F1 Score: {f1_score(y_test, y_pred_rf)}\")"
   ]
  },
  {
   "cell_type": "code",
   "execution_count": null,
   "id": "53d6513d-f312-43ef-ad9d-9116d677d554",
   "metadata": {},
   "outputs": [],
   "source": [
    "param_grid_rf = {\n",
    "    'n_estimators': [50, 100, 200],\n",
    "    'max_depth': [None, 10, 20],\n",
    "    'min_samples_split': [2, 5, 10]\n",
    "}\n",
    "grid_search_rf = GridSearchCV(random_forest_model, param_grid_rf, cv=5, scoring='accuracy')\n",
    "grid_search_rf.fit(X_train_scaled, y_train)\n",
    "best_rf_model = grid_search_rf.best_estimator_"
   ]
  },
  {
   "cell_type": "code",
   "execution_count": null,
   "id": "11fe4a7a-7094-4f4d-9190-8b8ee612f0e9",
   "metadata": {},
   "outputs": [],
   "source": []
  }
 ],
 "metadata": {
  "kernelspec": {
   "display_name": "Python 3 (ipykernel)",
   "language": "python",
   "name": "python3"
  },
  "language_info": {
   "codemirror_mode": {
    "name": "ipython",
    "version": 3
   },
   "file_extension": ".py",
   "mimetype": "text/x-python",
   "name": "python",
   "nbconvert_exporter": "python",
   "pygments_lexer": "ipython3",
   "version": "3.10.4"
  }
 },
 "nbformat": 4,
 "nbformat_minor": 5
}
